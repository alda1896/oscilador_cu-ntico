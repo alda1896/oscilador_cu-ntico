{
 "cells": [
  {
   "cell_type": "code",
   "execution_count": 7,
   "metadata": {},
   "outputs": [
    {
     "name": "stdout",
     "output_type": "stream",
     "text": [
      "la raiz es:  3.99993896484375\n"
     ]
    }
   ],
   "source": [
    "def poli (x):\n",
    "    y=x**2-3*x-4\n",
    "    return(y)\n",
    "\n",
    "xl=0\n",
    "xp=10\n",
    "error= 1e-3\n",
    "xr=(xl+xp)/2\n",
    "\n",
    "while abs(poli(xr)) > error:\n",
    "    xr=(xl+xp)/2.\n",
    "    if poli(xl)*poli(xr) < 0:\n",
    "        xp=xr\n",
    "    else:\n",
    "        xl=xr\n",
    "print (\"la raiz es: \",xr)"
   ]
  },
  {
   "cell_type": "code",
   "execution_count": null,
   "metadata": {},
   "outputs": [],
   "source": []
  }
 ],
 "metadata": {
  "kernelspec": {
   "display_name": "Python 3",
   "language": "python",
   "name": "python3"
  },
  "language_info": {
   "codemirror_mode": {
    "name": "ipython",
    "version": 3
   },
   "file_extension": ".py",
   "mimetype": "text/x-python",
   "name": "python",
   "nbconvert_exporter": "python",
   "pygments_lexer": "ipython3",
   "version": "3.7.3"
  }
 },
 "nbformat": 4,
 "nbformat_minor": 2
}
